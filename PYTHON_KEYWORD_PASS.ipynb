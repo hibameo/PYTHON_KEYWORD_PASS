{
  "nbformat": 4,
  "nbformat_minor": 0,
  "metadata": {
    "colab": {
      "provenance": [],
      "authorship_tag": "ABX9TyOJ2IVS1UPnELZjRAzq8mvK",
      "include_colab_link": true
    },
    "kernelspec": {
      "name": "python3",
      "display_name": "Python 3"
    },
    "language_info": {
      "name": "python"
    }
  },
  "cells": [
    {
      "cell_type": "markdown",
      "metadata": {
        "id": "view-in-github",
        "colab_type": "text"
      },
      "source": [
        "<a href=\"https://colab.research.google.com/github/hibameo/PYTHON_KEYWORD_PASS/blob/main/PYTHON_KEYWORD_PASS.ipynb\" target=\"_parent\"><img src=\"https://colab.research.google.com/assets/colab-badge.svg\" alt=\"Open In Colab\"/></a>"
      ]
    },
    {
      "cell_type": "markdown",
      "source": [
        "ChatGPT said:\n",
        "### Python ka pass keyword aik placeholder ki tarah kaam karta hai. Yeh kisi bhi code block (jaise function, loop, condition, class, etc.) mein use kiya ja sakta hai jab aapko structure banaana ho, lekin abhi uska implementation likhna na ho. Yeh syntax error se bachne ke liye hota hai."
      ],
      "metadata": {
        "id": "wEqFdlKdujYa"
      }
    },
    {
      "cell_type": "markdown",
      "source": [
        "1️⃣ Functions mein pass ka use:\n",
        "\n",
        "Agar aap ek function bana rahe hain, lekin abhi uska logic decide nahi kiya, to pass likh sakte hain.\n"
      ],
      "metadata": {
        "id": "Mjuf-j6kuuSq"
      }
    },
    {
      "cell_type": "code",
      "source": [
        "def my_function():\n",
        "    pass\n"
      ],
      "metadata": {
        "id": "4ED28wYHu_p4"
      },
      "execution_count": 1,
      "outputs": []
    },
    {
      "cell_type": "markdown",
      "source": [
        "🔹 Yeh function empty hai, lekin Python error nahi dega kyunki pass ka use kiya gaya hai."
      ],
      "metadata": {
        "id": "F1tgAr36vFHT"
      }
    },
    {
      "cell_type": "markdown",
      "source": [
        "\n",
        "2️⃣ Classes mein pass ka use:\n",
        "\n",
        "Agar aap ek class ka structure define karna chahte hain lekin uska code baad mein likhna chahte hain:"
      ],
      "metadata": {
        "id": "18JrTVrRvLFl"
      }
    },
    {
      "cell_type": "code",
      "source": [
        "class MyClass:\n",
        "    pass\n"
      ],
      "metadata": {
        "id": "K2vUaWpRvPH-"
      },
      "execution_count": null,
      "outputs": []
    },
    {
      "cell_type": "markdown",
      "source": [
        "🔹 Yeh ek khaali class hai jo syntax error nahi degi."
      ],
      "metadata": {
        "id": "xtx4sk0wvQEW"
      }
    },
    {
      "cell_type": "markdown",
      "source": [
        "3️⃣ Loops mein pass ka use:\n",
        "\n",
        "Kabhi kabhi loops ki zaroorat hoti hai, lekin hum chahte hain ke loop execute ho lekin kuch kare nahi:"
      ],
      "metadata": {
        "id": "lC3PYXFlvZ-9"
      }
    },
    {
      "cell_type": "code",
      "source": [
        "for i in range(10):\n",
        "    pass\n"
      ],
      "metadata": {
        "id": "lPZakTcqvhMj"
      },
      "execution_count": 2,
      "outputs": []
    },
    {
      "cell_type": "markdown",
      "source": [
        "🔹 Yeh loop 10 dafa chalega lekin koi operation perform nahi karega."
      ],
      "metadata": {
        "id": "IT8O4Pt3vlzo"
      }
    },
    {
      "cell_type": "markdown",
      "source": [
        "4️⃣ Conditional Statements mein pass ka use:\n",
        "\n",
        "Agar aap if-else block likh rahe hain, lekin abhi aapko decide nahi ke kya likhna hai:"
      ],
      "metadata": {
        "id": "YfC2LV4mvquJ"
      }
    },
    {
      "cell_type": "code",
      "source": [
        "x = 5\n",
        "if x > 10:\n",
        "    pass  # Future mein yahan kuch likhna hai\n",
        "else:\n",
        "    pass\n"
      ],
      "metadata": {
        "id": "EPeis_YPvtZ9"
      },
      "execution_count": 3,
      "outputs": []
    },
    {
      "cell_type": "markdown",
      "source": [
        "🔹 Isse conditional structure complete ho jata hai bina syntax error diye."
      ],
      "metadata": {
        "id": "7dmW3t4ovzt7"
      }
    },
    {
      "cell_type": "markdown",
      "source": [
        "5️⃣ Try-Except Block mein pass ka use:\n",
        "\n",
        "Agar aap kisi exception ko handle karna chahte hain lekin usko ignore karna ho:"
      ],
      "metadata": {
        "id": "5Q5Br0v7v5rj"
      }
    },
    {
      "cell_type": "code",
      "source": [
        "try:\n",
        "    result = 10 / 0\n",
        "except ZeroDivisionError:\n",
        "    pass  # Filhal error ko ignore kar rahe hain\n"
      ],
      "metadata": {
        "id": "Vt29ngsgv-uY"
      },
      "execution_count": 4,
      "outputs": []
    },
    {
      "cell_type": "markdown",
      "source": [
        "🔹 Yeh error handle karega lekin kuch karega nahi."
      ],
      "metadata": {
        "id": "iVmiEZ-QwCr1"
      }
    },
    {
      "cell_type": "markdown",
      "source": [
        "6️⃣ With Statement mein pass ka use:\n",
        "\n",
        "Jab aap file handling ya koi resource use kar rahe hain lekin filhal koi operation nahi perform kar rahe:\n",
        "\n"
      ],
      "metadata": {
        "id": "6zGzb5WuwGDn"
      }
    },
    {
      "source": [
        "try:\n",
        "    with open(\"somefile.txt\", \"r\") as file:\n",
        "        pass  # Filhal error ko ignore kar rahe hain\n",
        "except FileNotFoundError:\n",
        "    print(\"The file 'somefile.txt' was not found.\")\n",
        "    # You might want to create the file or handle this case differently.\n",
        "    # For example, you can use 'w' mode to create the file if it doesn't exist:\n",
        "    # with open(\"somefile.txt\", \"w\") as file:\n",
        "    #     file.write(\"This is a new file.\")"
      ],
      "cell_type": "code",
      "metadata": {
        "colab": {
          "base_uri": "https://localhost:8080/"
        },
        "id": "QmgHL4wLwSwM",
        "outputId": "41cfcb69-b1fa-4aaa-9fdc-74a1757b4b72"
      },
      "execution_count": 6,
      "outputs": [
        {
          "output_type": "stream",
          "name": "stdout",
          "text": [
            "The file 'somefile.txt' was not found.\n"
          ]
        }
      ]
    },
    {
      "cell_type": "markdown",
      "source": [
        "🔹 File open hogi, lekin koi operation perform nahi hoga."
      ],
      "metadata": {
        "id": "0NJtSOh0wXYx"
      }
    },
    {
      "cell_type": "markdown",
      "source": [
        "🎯 Conclusion\n",
        "pass ek placeholder statement hai jo syntax error se bachne ke liye use hota hai. Iska use kisi bhi code block mein ho sakta hai jahan kuch likhna zaroori ho, lekin abhi implementation na ho."
      ],
      "metadata": {
        "id": "CMccHoHUwgYE"
      }
    }
  ]
}